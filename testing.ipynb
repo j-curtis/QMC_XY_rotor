{
 "cells": [
  {
   "cell_type": "code",
   "execution_count": 18,
   "id": "9c7399c0-eed7-4f2c-a464-9b299e617cfc",
   "metadata": {},
   "outputs": [],
   "source": [
    "import SITSpinOneMFT as sit\n",
    "import numpy as np \n",
    "from scipy import integrate as intg\n",
    "import time\n",
    "from matplotlib import pyplot as plt\n",
    "from matplotlib import cm\n",
    "from matplotlib import colors as mclr\n"
   ]
  },
  {
   "cell_type": "code",
   "execution_count": 20,
   "id": "36622ff5-155e-4009-afba-d32764827d6e",
   "metadata": {},
   "outputs": [],
   "source": [
    "Lx = 4\n",
    "Ly = 4\n",
    "\n",
    "Ec = 1.*np.ones((Lx,Ly))\n",
    "\n",
    "nEj = 5\n",
    "Ejs = np.linspace(0.,1.,nEj)\n",
    "\n",
    "energies = np.zeros(nEj)\n",
    "wfs = np.zeros((3,Lx,Ly,nEj))"
   ]
  },
  {
   "cell_type": "code",
   "execution_count": 74,
   "id": "8f490c1a-ae47-4b1b-ae70-8141dd7793e6",
   "metadata": {},
   "outputs": [],
   "source": [
    "Lx = 4\n",
    "Ly = 4\n",
    "\n",
    "Ec = 2.*np.ones((Lx,Ly)) + 0.05*sit.rng.random((Lx,Ly))\n",
    "Ej = 1. \n"
   ]
  },
  {
   "cell_type": "code",
   "execution_count": 75,
   "id": "fefeb38c-9faa-4d82-ba00-aeaddfea27d2",
   "metadata": {},
   "outputs": [],
   "source": [
    "nts = 100\n",
    "times = np.linspace(0.,300.,nts)"
   ]
  },
  {
   "cell_type": "code",
   "execution_count": 76,
   "id": "0258748d-c712-4c1e-8eec-d59b636e04fd",
   "metadata": {},
   "outputs": [],
   "source": [
    "wf_vs_t = sit.solve_eom_from_GS(Lx,Ly,Ec,Ej,times)"
   ]
  },
  {
   "cell_type": "code",
   "execution_count": 77,
   "id": "0100c413-0c66-4485-89c6-311024c12829",
   "metadata": {},
   "outputs": [],
   "source": [
    "m_vs_t = sit.magnetization(wf_vs_t)\n",
    "c2_vs_t = sit.charge_squared(wf_vs_t)"
   ]
  },
  {
   "cell_type": "code",
   "execution_count": 78,
   "id": "242371e1-dcd4-4ec7-902d-25e6138d8a68",
   "metadata": {},
   "outputs": [
    {
     "data": {
      "image/png": "[encoded data removed]",
      "text/plain": [
       "<Figure size 640x480 with 1 Axes>"
      ]
     },
     "metadata": {},
     "output_type": "display_data"
    }
   ],
   "source": [
    "for i in range(4):\n",
    "    plt.plot(times,m_vs_t[i,0,0,:])\n",
    "plt.plot(times,c2_vs_t[0,0,:])\n",
    "plt.show()"
   ]
  },
  {
   "cell_type": "code",
   "execution_count": null,
   "id": "7f4ba0db-3e88-48c2-82f3-580596133d53",
   "metadata": {},
   "outputs": [],
   "source": []
  },
  {
   "cell_type": "code",
   "execution_count": null,
   "id": "f59d203d-b9e9-4bf4-b07c-ebeccf88e844",
   "metadata": {},
   "outputs": [],
   "source": []
  }
 ],
 "metadata": {
  "kernelspec": {
   "display_name": "Python 3 (ipykernel)",
   "language": "python",
   "name": "python3"
  },
  "language_info": {
   "codemirror_mode": {
    "name": "ipython",
    "version": 3
   },
   "file_extension": ".py",
   "mimetype": "text/x-python",
   "name": "python",
   "nbconvert_exporter": "python",
   "pygments_lexer": "ipython3",
   "version": "3.8.18"
  }
 },
 "nbformat": 4,
 "nbformat_minor": 5
}
