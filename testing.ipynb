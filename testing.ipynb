{
 "cells": [
  {
   "cell_type": "code",
   "execution_count": 1,
   "id": "9c7399c0-eed7-4f2c-a464-9b299e617cfc",
   "metadata": {},
   "outputs": [],
   "source": [
    "import numpy as np\n",
    "import scipy as scp\n",
    "from scipy import integrate as intg\n",
    "from scipy import signal \n",
    "import time\n",
    "from matplotlib import pyplot as plt\n",
    "from matplotlib import cm\n",
    "from matplotlib import colors as mclr\n",
    "\n",
    "rng = np.random.default_rng()\n",
    "\n",
    "spin_one_matrices = [ np.array([[1.,0.,0.],[0.,1.,0.],[0.,0.,1.]],dtype=complex), 1./np.sqrt(2.)*np.array([[0.,1.,0.],[1.,0.,1.],[0.,1.,0.]],dtype=complex),1./np.sqrt(2.)*np.array([[0.,-1.j,0.],[1.j,0.,-1.j],[0.,1.j,0.]],dtype=complex),np.array([[1.,0.,0.],[0.,0.,0.],[0.,0.,-1.]],dtype=complex) ]\n"
   ]
  },
  {
   "cell_type": "code",
   "execution_count": 87,
   "id": "40c8422d-fcfc-45c8-817b-596d1bf3c7dd",
   "metadata": {},
   "outputs": [],
   "source": [
    "##########################################\n",
    "####### Wavefunction initilizaiton #######\n",
    "##########################################\n",
    "\n",
    "### This initializes a wavefunction on Lx x Ly grid in the Mott state \n",
    "def initialize_Mott(Lx,Ly):\n",
    "    wf = np.zeros((3,Lx,Ly),dtype=complex) ### 3 components for each site, LxxLy sites \n",
    "    \n",
    "    ### According to the parameterization using the spin-one matrices above the charge operator is S^z and thus the [1] component is  the |0> Fock state \n",
    "    wf[1,...] = 1.+0.j \n",
    "    \n",
    "    return wf \n",
    "\n",
    "### This initializes a wavefunction on Lx x Ly grid in the superfluid state with a chosen phase \n",
    "def initialize_SF(Lx,Ly,phase):\n",
    "    wf = np.zeros((3,Lx,Ly),dtype=complex) ### 3 components for each site, LxL sites\n",
    "    \n",
    "    wf[0,...] = 0.5*np.exp(1.j*phase)\n",
    "    wf[1,...] = 0.5*np.sqrt(2.)\n",
    "    wf[2,...] = 0.5*np.exp(-1.j*phase)\n",
    "    \n",
    "    return wf \n",
    "\n",
    "\n",
    "### This takes the wavefunction overlap and returns it resolved in space\n",
    "def overlap(w1,w2):\n",
    "    return np.sum( np.conjugate(w1)*w2,axis=0)\n",
    "\n",
    "\n",
    "### This evaluates the magnetization <S> on each site \n",
    "### Returns a tensor <S>[c,x,y] with c = 0,1,2,3 the component \n",
    "def magnetization(wf):\n",
    "    Lx,Ly = wf.shape[-2:]\n",
    "    out = np.zeros((4,Lx,Ly))\n",
    "    \n",
    "    norm = np.real(overlap(wf,wf))\n",
    "    \n",
    "    for i in range(4):\n",
    "        out[i,...] = np.real( np.sum( np.conjugate(wf) * np.tensordot(spin_one_matrices[i],wf,axes=(1,0)),axis=0) )/norm\n",
    "    \n",
    "    return out\n",
    "\n",
    "### This evaluates the magnetization <S> on each site \n",
    "### Returns a tensor <S>[c,x,y] with c = 0,1,2,3 the component \n",
    "def charge_squared(wf):\n",
    "    norm = np.real(overlap(wf,wf))\n",
    "    out = np.real( np.sum( np.conjugate(wf) * np.tensordot(spin_one_matrices[3]@spin_one_matrices[3], wf,axes=(1,0)),axis=0) )/norm\n",
    "    \n",
    "    return out  \n",
    "\n",
    "\n",
    "\n",
    "### Evaluates the total energy of an ansatz wavefunction for given Ec and Ej parameters \n",
    "### These may be arrays \n",
    "def energy(wf,Ec,Ej):\n",
    "    charging_energy = Ec*np.sum( charge_squared(wf) )\n",
    "    \n",
    "    m = magnetization(wf)\n",
    "    Josephson_energy = -Ej*sum([ sum([ np.sum( m[i,...]*np.roll(m[i,...],shift=s,axis=[0,1]) ) for i in [1,2] ]) for s in [ [1,0],[0,1] ] ])\n",
    "    \n",
    "    return charging_energy + Josephson_energy\n",
    "\n",
    "\n",
    "\n",
    "\n",
    "\n",
    "\n",
    "\n",
    "\n",
    "\n",
    "\n",
    "\n",
    "\n",
    "\n",
    "\n"
   ]
  },
  {
   "cell_type": "code",
   "execution_count": 91,
   "id": "36622ff5-155e-4009-afba-d32764827d6e",
   "metadata": {},
   "outputs": [
    {
     "name": "stdout",
     "output_type": "stream",
     "text": [
      "-70.0\n"
     ]
    },
    {
     "data": {
      "image/png": "[encoded data removed]",
      "text/plain": [
       "<Figure size 640x480 with 2 Axes>"
      ]
     },
     "metadata": {},
     "output_type": "display_data"
    }
   ],
   "source": [
    "Lx = 4\n",
    "Ly = 5\n",
    "wf = initialize_SF(Lx,Ly,0.)\n",
    "print(energy(wf,1.,2.))\n",
    "plt.imshow(charge_squared(wf))\n",
    "plt.colorbar()\n",
    "plt.show()\n",
    "\n"
   ]
  },
  {
   "cell_type": "code",
   "execution_count": 45,
   "id": "242371e1-dcd4-4ec7-902d-25e6138d8a68",
   "metadata": {},
   "outputs": [
    {
     "name": "stdout",
     "output_type": "stream",
     "text": [
      "(4, 5)\n"
     ]
    }
   ],
   "source": [
    "m = np.sum( np.conjugate(wf) * np.tensordot(spin_one_matrices[1],wf,axes=(1,0)),axis=0)\n",
    "print(m.shape)"
   ]
  },
  {
   "cell_type": "code",
   "execution_count": 44,
   "id": "89fb8725-7bed-41d5-809b-8536c669f7bf",
   "metadata": {},
   "outputs": [
    {
     "name": "stdout",
     "output_type": "stream",
     "text": [
      "(3, 3, 3)\n"
     ]
    }
   ],
   "source": [
    "print(n.shape)"
   ]
  },
  {
   "cell_type": "code",
   "execution_count": null,
   "id": "310c59b3-4e95-457e-9bd4-604a36003bda",
   "metadata": {},
   "outputs": [],
   "source": []
  }
 ],
 "metadata": {
  "kernelspec": {
   "display_name": "Python 3 (ipykernel)",
   "language": "python",
   "name": "python3"
  },
  "language_info": {
   "codemirror_mode": {
    "name": "ipython",
    "version": 3
   },
   "file_extension": ".py",
   "mimetype": "text/x-python",
   "name": "python",
   "nbconvert_exporter": "python",
   "pygments_lexer": "ipython3",
   "version": "3.8.18"
  }
 },
 "nbformat": 4,
 "nbformat_minor": 5
}
